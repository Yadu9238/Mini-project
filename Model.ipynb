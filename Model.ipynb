{
  "nbformat": 4,
  "nbformat_minor": 0,
  "metadata": {
    "colab": {
      "name": "Model.ipynb",
      "provenance": []
    },
    "kernelspec": {
      "name": "python3",
      "display_name": "Python 3"
    },
    "language_info": {
      "name": "python"
    },
    "accelerator": "GPU"
  },
  "cells": [
    {
      "cell_type": "code",
      "metadata": {
        "colab": {
          "base_uri": "https://localhost:8080/"
        },
        "id": "S9YblOKOK-kw",
        "outputId": "5073fde4-a363-4718-8b70-dd2904a0af99"
      },
      "source": [
        "from google.colab import drive\n",
        "drive.mount('/content/gdrive')"
      ],
      "execution_count": 3,
      "outputs": [
        {
          "output_type": "stream",
          "text": [
            "Mounted at /content/gdrive\n"
          ],
          "name": "stdout"
        }
      ]
    },
    {
      "cell_type": "code",
      "metadata": {
        "colab": {
          "base_uri": "https://localhost:8080/"
        },
        "id": "Xb1d8fwXLA2K",
        "outputId": "cbf9173c-d589-49e8-faee-48f5202ac072"
      },
      "source": [
        "cd gdrive/MyDrive/data"
      ],
      "execution_count": 4,
      "outputs": [
        {
          "output_type": "stream",
          "text": [
            "/content/gdrive/MyDrive/data\n"
          ],
          "name": "stdout"
        }
      ]
    },
    {
      "cell_type": "markdown",
      "metadata": {
        "id": "gHbzCAWmSZhO"
      },
      "source": [
        "Loading Required Modules"
      ]
    },
    {
      "cell_type": "code",
      "metadata": {
        "id": "AGHiRxgaLI1t"
      },
      "source": [
        "import numpy as np\n",
        "import matplotlib.pyplot as plt\n",
        "from keras.layers import BatchNormalization\n",
        "from keras.layers import GlobalAveragePooling2D\n",
        "from keras.utils.np_utils import to_categorical\n",
        "from keras.callbacks import ModelCheckpoint, EarlyStopping\n",
        "from keras.models import Sequential\n",
        "from keras.layers import Convolution2D\n",
        "from keras.layers import MaxPooling2D\n",
        "from keras.layers import Flatten\n",
        "from keras.layers import Dense, Dropout\n",
        "from keras import optimizers\n",
        "import matplotlib.pyplot as plt \n",
        "import numpy as np\n",
        "import cv2\n",
        "from keras.utils.np_utils import to_categorical"
      ],
      "execution_count": 5,
      "outputs": []
    },
    {
      "cell_type": "markdown",
      "metadata": {
        "id": "GG65Lp6HSdzA"
      },
      "source": [
        "Loading the saved Numpy arrays after preprocessing\n"
      ]
    },
    {
      "cell_type": "code",
      "metadata": {
        "id": "FT_KFENVLJHR"
      },
      "source": [
        "\n",
        "X = np.load('Xfinal.npy')\n",
        "y = np.load('Yfinal.npy')\n",
        "y_trainHot = to_categorical(y, num_classes = 26)"
      ],
      "execution_count": 6,
      "outputs": []
    },
    {
      "cell_type": "markdown",
      "metadata": {
        "id": "StkGiH9hSkj7"
      },
      "source": [
        "Sample Image from Dataset"
      ]
    },
    {
      "cell_type": "code",
      "metadata": {
        "colab": {
          "base_uri": "https://localhost:8080/",
          "height": 267
        },
        "id": "1_QiXDTQSO4f",
        "outputId": "3c69eb1e-260f-4cf3-cbee-5762677c681a"
      },
      "source": [
        "plt.imshow(X[1822])\n",
        "#plt.title(\"Sample Image\")\n",
        "plt.show()"
      ],
      "execution_count": 27,
      "outputs": [
        {
          "output_type": "display_data",
          "data": {
            "image/png": "[encoded data removed]",
            "text/plain": [
              "<Figure size 432x288 with 1 Axes>"
            ]
          },
          "metadata": {
            "tags": [],
            "needs_background": "light"
          }
        }
      ]
    },
    {
      "cell_type": "markdown",
      "metadata": {
        "id": "sDkry4r2So39"
      },
      "source": [
        "Splitting Data into Train,test and validation sets"
      ]
    },
    {
      "cell_type": "code",
      "metadata": {
        "id": "bUC3K-b3LJJm"
      },
      "source": [
        "from sklearn.model_selection import train_test_split\n",
        "X_train, X_test, y_train, y_test = train_test_split(X, y_trainHot, test_size=0.2,random_state = 12, shuffle = True)\n",
        "\n",
        "\n",
        "X_train,X_val,y_train,y_val = train_test_split(X_train, y_train, test_size=0.2,random_state = 12, shuffle = True)\n",
        "\n",
        "from sklearn.utils import shuffle\n",
        "\n",
        "X_train,y_train = shuffle(X_train,y_train, random_state = 13)\n",
        "X_test,y_test = shuffle(X_test,y_test, random_state = 13)\n",
        "X_val,y_val = shuffle(X_val,y_val, random_state = 13)"
      ],
      "execution_count": 7,
      "outputs": []
    },
    {
      "cell_type": "code",
      "metadata": {
        "colab": {
          "base_uri": "https://localhost:8080/"
        },
        "id": "3RDDaQu4SwKV",
        "outputId": "f9d66a96-c4f4-4b5c-ecff-cd09775e1c00"
      },
      "source": [
        "print(\"XTrain shape:\",X_train.shape,\"\\tYTrain shape\",y_train.shape)\n",
        "print(\"XTest shape:\",X_test.shape,\"\\tYTest shape\",y_test.shape)\n",
        "print(\"XVal shape:\",X_val.shape,\"\\tYVal shape\",y_val.shape)"
      ],
      "execution_count": 28,
      "outputs": [
        {
          "output_type": "stream",
          "text": [
            "XTrain shape: (30201, 50, 50, 3) \tYTrain shape (30201, 26)\n",
            "XTest shape: (9438, 50, 50, 3) \tYTest shape (9438, 26)\n",
            "XVal shape: (7551, 50, 50, 3) \tYVal shape (7551, 26)\n"
          ],
          "name": "stdout"
        }
      ]
    },
    {
      "cell_type": "markdown",
      "metadata": {
        "id": "BspCl-0TTHOG"
      },
      "source": [
        "Loading the MobileNet architecture with ImageNet Weights"
      ]
    },
    {
      "cell_type": "code",
      "metadata": {
        "colab": {
          "base_uri": "https://localhost:8080/"
        },
        "id": "Ss2scAyLLJMB",
        "outputId": "07f97c9e-8b31-495c-9646-8d0e5e1c1f46"
      },
      "source": [
        "#Mob1\n",
        "import keras\n",
        "from keras.applications.mobilenet import MobileNet\n",
        "mob1 = MobileNet(weights = 'imagenet',include_top = False, input_shape = (50,50,3),pooling = 'avg')\n"
      ],
      "execution_count": 8,
      "outputs": [
        {
          "output_type": "stream",
          "text": [
            "WARNING:tensorflow:`input_shape` is undefined or non-square, or `rows` is not in [128, 160, 192, 224]. Weights for input shape (224, 224) will be loaded as the default.\n",
            "Downloading data from https://storage.googleapis.com/tensorflow/keras-applications/mobilenet/mobilenet_1_0_224_tf_no_top.h5\n",
            "17227776/17225924 [==============================] - 0s 0us/step\n",
            "17235968/17225924 [==============================] - 0s 0us/step\n"
          ],
          "name": "stdout"
        }
      ]
    },
    {
      "cell_type": "code",
      "metadata": {
        "id": "gN2mMqq7LJOO"
      },
      "source": [
        "#Freezing the base model layers in order to train top layers first\n",
        "for layer in mob1.layers:\n",
        "  layer.trainable = False"
      ],
      "execution_count": 9,
      "outputs": []
    },
    {
      "cell_type": "code",
      "metadata": {
        "colab": {
          "base_uri": "https://localhost:8080/"
        },
        "id": "8GFfDtUuLJQl",
        "outputId": "04d995ee-0b97-4bf1-dabc-ca991732a3f4"
      },
      "source": [
        "import keras.layers as layers\n",
        "model = Sequential([mob1])\n",
        "\n",
        "\n",
        "model.add(layers.Flatten())\n",
        "model.add(layers.Dense(1024,activation='relu'))\n",
        "model.add(layers.Dropout(0.2))\n",
        "model.add(layers.Dense(256,activation='relu'))\n",
        "model.add(layers.Dropout(0.2))\n",
        "model.add(layers.Dense(26,activation='softmax'))\n",
        "model.summary()"
      ],
      "execution_count": 10,
      "outputs": [
        {
          "output_type": "stream",
          "text": [
            "Model: \"sequential\"\n",
            "_________________________________________________________________\n",
            "Layer (type)                 Output Shape              Param #   \n",
            "=================================================================\n",
            "mobilenet_1.00_224 (Function (None, 1024)              3228864   \n",
            "_________________________________________________________________\n",
            "flatten (Flatten)            (None, 1024)              0         \n",
            "_________________________________________________________________\n",
            "dense (Dense)                (None, 1024)              1049600   \n",
            "_________________________________________________________________\n",
            "dropout (Dropout)            (None, 1024)              0         \n",
            "_________________________________________________________________\n",
            "dense_1 (Dense)              (None, 256)               262400    \n",
            "_________________________________________________________________\n",
            "dropout_1 (Dropout)          (None, 256)               0         \n",
            "_________________________________________________________________\n",
            "dense_2 (Dense)              (None, 26)                6682      \n",
            "=================================================================\n",
            "Total params: 4,547,546\n",
            "Trainable params: 1,318,682\n",
            "Non-trainable params: 3,228,864\n",
            "_________________________________________________________________\n"
          ],
          "name": "stdout"
        }
      ]
    },
    {
      "cell_type": "code",
      "metadata": {
        "colab": {
          "base_uri": "https://localhost:8080/"
        },
        "id": "jadW_CiDLJSo",
        "outputId": "385b3b86-31ae-4544-fe6b-910cb7faf0d3"
      },
      "source": [
        "early_stopping_callback = EarlyStopping(monitor = 'val_loss', patience = 15, mode = 'min', restore_best_weights = True)\n",
        "opt = opt = keras.optimizers.Adam(learning_rate=0.001, beta_1=0.9)\n",
        "# Adding loss, optimizer and metrics values to the model.\n",
        "model.compile(loss = 'categorical_crossentropy', optimizer = opt, metrics = [\"accuracy\"])\n",
        "\n",
        "# Start Training\n",
        "model_training_history = model.fit(x = X_train, y = y_train, epochs = 5, batch_size = 32 , shuffle = True, callbacks = [early_stopping_callback],validation_data=(X_val,y_val))\n",
        "\n"
      ],
      "execution_count": 11,
      "outputs": [
        {
          "output_type": "stream",
          "text": [
            "Epoch 1/5\n",
            "944/944 [==============================] - 59s 13ms/step - loss: 2.9520 - accuracy: 0.1378 - val_loss: 2.7123 - val_accuracy: 0.1972\n",
            "Epoch 2/5\n",
            "944/944 [==============================] - 8s 9ms/step - loss: 2.7020 - accuracy: 0.2031 - val_loss: 2.6542 - val_accuracy: 0.2151\n",
            "Epoch 3/5\n",
            "944/944 [==============================] - 10s 10ms/step - loss: 2.6696 - accuracy: 0.2163 - val_loss: 2.6321 - val_accuracy: 0.2172\n",
            "Epoch 4/5\n",
            "944/944 [==============================] - 8s 9ms/step - loss: 2.6000 - accuracy: 0.2298 - val_loss: 2.6047 - val_accuracy: 0.2271\n",
            "Epoch 5/5\n",
            "944/944 [==============================] - 8s 9ms/step - loss: 2.5832 - accuracy: 0.2377 - val_loss: 2.6002 - val_accuracy: 0.2314\n"
          ],
          "name": "stdout"
        }
      ]
    },
    {
      "cell_type": "code",
      "metadata": {
        "id": "99BRHWS_Lh7k"
      },
      "source": [
        "#Unfreezing the base model layers and retraining"
      ],
      "execution_count": null,
      "outputs": []
    },
    {
      "cell_type": "code",
      "metadata": {
        "id": "BWnYRPopLh91"
      },
      "source": [
        "for layer in mob1.layers:\n",
        "  layer.trainable = True"
      ],
      "execution_count": 12,
      "outputs": []
    },
    {
      "cell_type": "code",
      "metadata": {
        "colab": {
          "base_uri": "https://localhost:8080/"
        },
        "id": "QocUXrU9LiAb",
        "outputId": "69557ce6-af04-4940-ccf0-7e7f697c2fd2"
      },
      "source": [
        "full_model = Sequential([model])\n",
        "opt = keras.optimizers.Adam(learning_rate=0.00001)\n",
        "full_model.compile(\n",
        "    loss='categorical_crossentropy',\n",
        "    optimizer=opt,\n",
        "    metrics=['accuracy'])\n",
        "\n",
        "clf = full_model.fit(x = X_train, y = y_train, epochs = 50, batch_size = 32 , shuffle = True, callbacks = [early_stopping_callback],validation_data=(X_val,y_val))\n",
        "\n"
      ],
      "execution_count": 14,
      "outputs": [
        {
          "output_type": "stream",
          "text": [
            "Epoch 1/50\n",
            "944/944 [==============================] - 31s 24ms/step - loss: 13.0817 - accuracy: 0.0985 - val_loss: 3.7854 - val_accuracy: 0.1551\n",
            "Epoch 2/50\n",
            "944/944 [==============================] - 21s 23ms/step - loss: 3.7529 - accuracy: 0.1507 - val_loss: 2.9208 - val_accuracy: 0.1809\n",
            "Epoch 3/50\n",
            "944/944 [==============================] - 21s 23ms/step - loss: 3.0131 - accuracy: 0.1647 - val_loss: 2.6532 - val_accuracy: 0.2295\n",
            "Epoch 4/50\n",
            "944/944 [==============================] - 20s 22ms/step - loss: 2.7248 - accuracy: 0.2178 - val_loss: 2.3621 - val_accuracy: 0.3015\n",
            "Epoch 5/50\n",
            "944/944 [==============================] - 20s 22ms/step - loss: 2.4733 - accuracy: 0.2696 - val_loss: 2.0857 - val_accuracy: 0.3764\n",
            "Epoch 6/50\n",
            "944/944 [==============================] - 20s 22ms/step - loss: 2.2353 - accuracy: 0.3325 - val_loss: 1.8327 - val_accuracy: 0.4491\n",
            "Epoch 7/50\n",
            "944/944 [==============================] - 22s 23ms/step - loss: 2.0139 - accuracy: 0.3908 - val_loss: 1.6206 - val_accuracy: 0.5100\n",
            "Epoch 8/50\n",
            "944/944 [==============================] - 20s 22ms/step - loss: 1.8304 - accuracy: 0.4423 - val_loss: 1.4425 - val_accuracy: 0.5627\n",
            "Epoch 9/50\n",
            "944/944 [==============================] - 20s 22ms/step - loss: 1.6525 - accuracy: 0.4892 - val_loss: 1.2942 - val_accuracy: 0.6089\n",
            "Epoch 10/50\n",
            "944/944 [==============================] - 21s 23ms/step - loss: 1.5046 - accuracy: 0.5373 - val_loss: 1.1618 - val_accuracy: 0.6485\n",
            "Epoch 11/50\n",
            "944/944 [==============================] - 21s 23ms/step - loss: 1.3809 - accuracy: 0.5702 - val_loss: 1.0514 - val_accuracy: 0.6828\n",
            "Epoch 12/50\n",
            "944/944 [==============================] - 20s 22ms/step - loss: 1.2545 - accuracy: 0.6102 - val_loss: 0.9460 - val_accuracy: 0.7122\n",
            "Epoch 13/50\n",
            "944/944 [==============================] - 22s 23ms/step - loss: 1.1652 - accuracy: 0.6327 - val_loss: 0.8763 - val_accuracy: 0.7362\n",
            "Epoch 14/50\n",
            "944/944 [==============================] - 21s 22ms/step - loss: 1.0837 - accuracy: 0.6570 - val_loss: 0.8078 - val_accuracy: 0.7537\n",
            "Epoch 15/50\n",
            "944/944 [==============================] - 21s 22ms/step - loss: 1.0012 - accuracy: 0.6858 - val_loss: 0.7517 - val_accuracy: 0.7704\n",
            "Epoch 16/50\n",
            "944/944 [==============================] - 20s 22ms/step - loss: 0.9108 - accuracy: 0.7114 - val_loss: 0.7066 - val_accuracy: 0.7859\n",
            "Epoch 17/50\n",
            "944/944 [==============================] - 21s 23ms/step - loss: 0.8828 - accuracy: 0.7298 - val_loss: 0.6686 - val_accuracy: 0.7967\n",
            "Epoch 18/50\n",
            "944/944 [==============================] - 20s 22ms/step - loss: 0.7986 - accuracy: 0.7522 - val_loss: 0.6153 - val_accuracy: 0.8100\n",
            "Epoch 19/50\n",
            "944/944 [==============================] - 21s 23ms/step - loss: 0.7693 - accuracy: 0.7596 - val_loss: 0.6008 - val_accuracy: 0.8131\n",
            "Epoch 20/50\n",
            "944/944 [==============================] - 20s 22ms/step - loss: 0.7294 - accuracy: 0.7722 - val_loss: 0.5661 - val_accuracy: 0.8273\n",
            "Epoch 21/50\n",
            "944/944 [==============================] - 20s 22ms/step - loss: 0.7044 - accuracy: 0.7790 - val_loss: 0.5481 - val_accuracy: 0.8314\n",
            "Epoch 22/50\n",
            "944/944 [==============================] - 20s 22ms/step - loss: 0.6477 - accuracy: 0.7943 - val_loss: 0.5281 - val_accuracy: 0.8396\n",
            "Epoch 23/50\n",
            "944/944 [==============================] - 20s 22ms/step - loss: 0.5924 - accuracy: 0.8113 - val_loss: 0.5132 - val_accuracy: 0.8469\n",
            "Epoch 24/50\n",
            "944/944 [==============================] - 20s 22ms/step - loss: 0.5772 - accuracy: 0.8201 - val_loss: 0.4873 - val_accuracy: 0.8526\n",
            "Epoch 25/50\n",
            "944/944 [==============================] - 20s 22ms/step - loss: 0.5489 - accuracy: 0.8244 - val_loss: 0.4703 - val_accuracy: 0.8551\n",
            "Epoch 26/50\n",
            "944/944 [==============================] - 20s 22ms/step - loss: 0.5197 - accuracy: 0.8336 - val_loss: 0.4569 - val_accuracy: 0.8598\n",
            "Epoch 27/50\n",
            "944/944 [==============================] - 20s 22ms/step - loss: 0.4952 - accuracy: 0.8426 - val_loss: 0.4374 - val_accuracy: 0.8696\n",
            "Epoch 28/50\n",
            "944/944 [==============================] - 20s 22ms/step - loss: 0.4733 - accuracy: 0.8519 - val_loss: 0.4262 - val_accuracy: 0.8698\n",
            "Epoch 29/50\n",
            "944/944 [==============================] - 20s 22ms/step - loss: 0.4601 - accuracy: 0.8569 - val_loss: 0.4170 - val_accuracy: 0.8714\n",
            "Epoch 30/50\n",
            "944/944 [==============================] - 21s 23ms/step - loss: 0.4372 - accuracy: 0.8612 - val_loss: 0.4132 - val_accuracy: 0.8754\n",
            "Epoch 31/50\n",
            "944/944 [==============================] - 21s 23ms/step - loss: 0.4094 - accuracy: 0.8699 - val_loss: 0.3968 - val_accuracy: 0.8809\n",
            "Epoch 32/50\n",
            "944/944 [==============================] - 20s 22ms/step - loss: 0.3922 - accuracy: 0.8753 - val_loss: 0.3938 - val_accuracy: 0.8820\n",
            "Epoch 33/50\n",
            "944/944 [==============================] - 21s 22ms/step - loss: 0.3820 - accuracy: 0.8760 - val_loss: 0.3755 - val_accuracy: 0.8876\n",
            "Epoch 34/50\n",
            "944/944 [==============================] - 21s 22ms/step - loss: 0.3660 - accuracy: 0.8836 - val_loss: 0.3690 - val_accuracy: 0.8907\n",
            "Epoch 35/50\n",
            "944/944 [==============================] - 22s 23ms/step - loss: 0.3426 - accuracy: 0.8882 - val_loss: 0.3616 - val_accuracy: 0.8939\n",
            "Epoch 36/50\n",
            "944/944 [==============================] - 22s 23ms/step - loss: 0.3428 - accuracy: 0.8910 - val_loss: 0.3525 - val_accuracy: 0.8951\n",
            "Epoch 37/50\n",
            "944/944 [==============================] - 22s 23ms/step - loss: 0.3290 - accuracy: 0.8966 - val_loss: 0.3484 - val_accuracy: 0.8992\n",
            "Epoch 38/50\n",
            "944/944 [==============================] - 20s 22ms/step - loss: 0.3189 - accuracy: 0.8978 - val_loss: 0.3490 - val_accuracy: 0.8971\n",
            "Epoch 39/50\n",
            "944/944 [==============================] - 20s 22ms/step - loss: 0.2890 - accuracy: 0.9075 - val_loss: 0.3348 - val_accuracy: 0.9013\n",
            "Epoch 40/50\n",
            "944/944 [==============================] - 21s 22ms/step - loss: 0.2822 - accuracy: 0.9107 - val_loss: 0.3316 - val_accuracy: 0.9024\n",
            "Epoch 41/50\n",
            "944/944 [==============================] - 21s 22ms/step - loss: 0.2728 - accuracy: 0.9098 - val_loss: 0.3318 - val_accuracy: 0.9035\n",
            "Epoch 42/50\n",
            "944/944 [==============================] - 22s 23ms/step - loss: 0.2507 - accuracy: 0.9176 - val_loss: 0.3314 - val_accuracy: 0.9024\n",
            "Epoch 43/50\n",
            "944/944 [==============================] - 21s 22ms/step - loss: 0.2579 - accuracy: 0.9162 - val_loss: 0.3250 - val_accuracy: 0.9061\n",
            "Epoch 44/50\n",
            "944/944 [==============================] - 21s 22ms/step - loss: 0.2297 - accuracy: 0.9250 - val_loss: 0.3151 - val_accuracy: 0.9084\n",
            "Epoch 45/50\n",
            "944/944 [==============================] - 21s 22ms/step - loss: 0.2378 - accuracy: 0.9231 - val_loss: 0.3181 - val_accuracy: 0.9048\n",
            "Epoch 46/50\n",
            "944/944 [==============================] - 21s 22ms/step - loss: 0.2222 - accuracy: 0.9267 - val_loss: 0.3170 - val_accuracy: 0.9095\n",
            "Epoch 47/50\n",
            "944/944 [==============================] - 22s 23ms/step - loss: 0.2185 - accuracy: 0.9299 - val_loss: 0.3136 - val_accuracy: 0.9095\n",
            "Epoch 48/50\n",
            "944/944 [==============================] - 21s 22ms/step - loss: 0.2206 - accuracy: 0.9292 - val_loss: 0.3090 - val_accuracy: 0.9099\n",
            "Epoch 49/50\n",
            "944/944 [==============================] - 22s 23ms/step - loss: 0.1952 - accuracy: 0.9369 - val_loss: 0.3019 - val_accuracy: 0.9131\n",
            "Epoch 50/50\n",
            "944/944 [==============================] - 21s 22ms/step - loss: 0.1834 - accuracy: 0.9401 - val_loss: 0.3001 - val_accuracy: 0.9139\n"
          ],
          "name": "stdout"
        }
      ]
    },
    {
      "cell_type": "markdown",
      "metadata": {
        "id": "G6mC8KZWTeV5"
      },
      "source": [
        "Plots and graphs"
      ]
    },
    {
      "cell_type": "code",
      "metadata": {
        "id": "0ibgNssDLiCX"
      },
      "source": [
        "def plot_metric(metric_name_1, metric_name_2, plot_name):\n",
        "  # Get Metric values using metric names as identifiers\n",
        "  metric_value_1 = clf.history[metric_name_1]\n",
        "  metric_value_2 = clf.history[metric_name_2]\n",
        "\n",
        "  # Constructing a range object which will be used as time \n",
        "  epochs = range(len(metric_value_1))\n",
        "  \n",
        "  # Plotting the Graph\n",
        "  plt.plot(epochs, metric_value_1, 'blue', label = metric_name_1)\n",
        "  plt.plot(epochs, metric_value_2, 'red', label = metric_name_2)\n",
        "  \n",
        "  # Adding title to the plot\n",
        "  plt.title(str(plot_name))\n",
        "\n",
        "  # Adding legend to the plot\n",
        "  plt.legend()"
      ],
      "execution_count": 16,
      "outputs": []
    },
    {
      "cell_type": "code",
      "metadata": {
        "colab": {
          "base_uri": "https://localhost:8080/",
          "height": 281
        },
        "id": "vahSOzSyLiEx",
        "outputId": "ee384f29-b323-4fc3-e623-b0fbf00e35b3"
      },
      "source": [
        "plot_metric('loss', 'val_loss', 'Total Loss vs Total Validation Loss')"
      ],
      "execution_count": 17,
      "outputs": [
        {
          "output_type": "display_data",
          "data": {
            "image/png": "[encoded data removed]",
            "text/plain": [
              "<Figure size 432x288 with 1 Axes>"
            ]
          },
          "metadata": {
            "tags": [],
            "needs_background": "light"
          }
        }
      ]
    },
    {
      "cell_type": "code",
      "metadata": {
        "colab": {
          "base_uri": "https://localhost:8080/",
          "height": 281
        },
        "id": "mKgzL5W2LiGn",
        "outputId": "5a2fda3a-3e46-4af3-c408-3b05e5d78691"
      },
      "source": [
        "plot_metric('accuracy', 'val_accuracy', 'Total Accuracy vs Total Validation Accuracy')"
      ],
      "execution_count": 18,
      "outputs": [
        {
          "output_type": "display_data",
          "data": {
            "image/png": "[encoded data removed]",
            "text/plain": [
              "<Figure size 432x288 with 1 Axes>"
            ]
          },
          "metadata": {
            "tags": [],
            "needs_background": "light"
          }
        }
      ]
    },
    {
      "cell_type": "code",
      "metadata": {
        "id": "74chFo_4RrIl"
      },
      "source": [
        ""
      ],
      "execution_count": 28,
      "outputs": []
    },
    {
      "cell_type": "code",
      "metadata": {
        "id": "vhwIAOQPR139"
      },
      "source": [
        "y_pred = model.predict(X_test)"
      ],
      "execution_count": 20,
      "outputs": []
    },
    {
      "cell_type": "code",
      "metadata": {
        "colab": {
          "base_uri": "https://localhost:8080/"
        },
        "id": "AtuZpsmnR8ke",
        "outputId": "c8d34394-1bcf-4f3f-f02f-4a133d34be1b"
      },
      "source": [
        "import sklearn\n",
        "labels = {0: 'A', 1: 'B', 2: 'C', 3: 'D', 4: 'E', 5: 'F', 6: 'G', 7: 'H', 8: 'I', 9: 'J', 10: 'K', 11: 'L', 12: 'M', 13: 'N', 14: 'O', 15: 'P', 16: 'Q', 17: 'R', 18: 'S', 19: 'T', 20: 'U', 21: 'V', 22: 'W', 23: 'X', 24: 'Y', 25: 'Z'}\n",
        "\n",
        "print('\\n', sklearn.metrics.classification_report(np.where(y_test > 0)[1], np.argmax(y_pred, axis=1), target_names=list(labels.values())), sep='')"
      ],
      "execution_count": 21,
      "outputs": [
        {
          "output_type": "stream",
          "text": [
            "\n",
            "              precision    recall  f1-score   support\n",
            "\n",
            "           A       0.89      0.90      0.90       354\n",
            "           B       0.96      0.96      0.96       339\n",
            "           C       0.93      0.93      0.93       352\n",
            "           D       0.86      0.90      0.88       332\n",
            "           E       0.90      0.92      0.91       347\n",
            "           F       0.97      0.94      0.96       376\n",
            "           G       0.89      0.89      0.89       351\n",
            "           H       0.94      0.94      0.94       383\n",
            "           I       0.91      0.86      0.89       384\n",
            "           J       0.91      0.92      0.91       361\n",
            "           K       0.90      0.91      0.90       359\n",
            "           L       0.95      0.97      0.96       364\n",
            "           M       0.86      0.83      0.85       401\n",
            "           N       0.82      0.80      0.81       389\n",
            "           O       0.96      0.94      0.95       385\n",
            "           P       0.94      0.94      0.94       352\n",
            "           Q       0.94      0.97      0.96       365\n",
            "           R       0.87      0.90      0.89       357\n",
            "           S       0.80      0.86      0.83       375\n",
            "           T       0.84      0.84      0.84       325\n",
            "           U       0.93      0.90      0.91       383\n",
            "           V       0.90      0.90      0.90       373\n",
            "           W       0.97      0.95      0.96       338\n",
            "           X       0.92      0.92      0.92       373\n",
            "           Y       0.94      0.95      0.94       357\n",
            "           Z       0.90      0.86      0.88       363\n",
            "\n",
            "    accuracy                           0.91      9438\n",
            "   macro avg       0.91      0.91      0.91      9438\n",
            "weighted avg       0.91      0.91      0.91      9438\n",
            "\n"
          ],
          "name": "stdout"
        }
      ]
    },
    {
      "cell_type": "code",
      "metadata": {
        "colab": {
          "base_uri": "https://localhost:8080/",
          "height": 585
        },
        "id": "84UyRciUSAa5",
        "outputId": "df90f336-7d78-4e10-9e5c-68a7118aaeee"
      },
      "source": [
        "def plot_confusion_matrix(cm, classes,\n",
        "                          normalize=False,\n",
        "                          title='Confusion matrix',\n",
        "                          cmap=plt.cm.Blues):\n",
        "    \"\"\"\n",
        "    This function prints and plots the confusion matrix.\n",
        "    Normalization can be applied by setting `normalize=True`.\n",
        "    \"\"\"\n",
        "    plt.figure(figsize = (8,8))\n",
        "    plt.imshow(cm, interpolation='nearest', cmap=cmap)\n",
        "    plt.title(title)\n",
        "    plt.colorbar()\n",
        "    tick_marks = np.arange(len(classes))\n",
        "    plt.xticks(tick_marks, classes, rotation=90)\n",
        "    plt.yticks(tick_marks, classes)\n",
        "    if normalize:\n",
        "        cm = cm.astype('float') / cm.sum(axis=1)[:, np.newaxis]\n",
        "\n",
        "    thresh = cm.max() / 2.\n",
        "    for i, j in itertools.product(range(cm.shape[0]), range(cm.shape[1])):\n",
        "        plt.text(j, i, cm[i, j],\n",
        "                 horizontalalignment=\"center\",\n",
        "                 color=\"white\" if cm[i, j] > thresh else \"black\")\n",
        "    plt.tight_layout()\n",
        "    plt.ylabel('True label')\n",
        "    plt.xlabel('Predicted label')\n",
        "\n",
        "    \n",
        "#this\n",
        "from sklearn.metrics import confusion_matrix\n",
        "import itertools\n",
        "Y_pred = np.argmax(y_pred, axis = 1)\n",
        "Y_true = np.argmax(y_test, axis = 1)\n",
        "conf = confusion_matrix(Y_true,Y_pred)\n",
        "plot_confusion_matrix(conf,classes=list(labels.values()))"
      ],
      "execution_count": 22,
      "outputs": [
        {
          "output_type": "display_data",
          "data": {
            "image/png": "[encoded data removed]",
            "text/plain": [
              "<Figure size 576x576 with 2 Axes>"
            ]
          },
          "metadata": {
            "tags": [],
            "needs_background": "light"
          }
        }
      ]
    },
    {
      "cell_type": "code",
      "metadata": {
        "id": "FHleWeYVSEeq"
      },
      "source": [
        "#Saving the model weights\n",
        "model.save('Final_model.h5')"
      ],
      "execution_count": 23,
      "outputs": []
    },
    {
      "cell_type": "code",
      "metadata": {
        "id": "CnxXDxSkVs3J"
      },
      "source": [
        ""
      ],
      "execution_count": null,
      "outputs": []
    }
  ]
}